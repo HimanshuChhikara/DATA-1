{
  "nbformat": 4,
  "nbformat_minor": 0,
  "metadata": {
    "colab": {
      "name": "Untitled1.ipynb",
      "provenance": [],
      "collapsed_sections": [],
      "authorship_tag": "ABX9TyPFXPR59ZxG2Q8UYXQAFTds",
      "include_colab_link": true
    },
    "kernelspec": {
      "name": "python3",
      "display_name": "Python 3"
    }
  },
  "cells": [
    {
      "cell_type": "markdown",
      "metadata": {
        "id": "view-in-github",
        "colab_type": "text"
      },
      "source": [
        "<a href=\"https://colab.research.google.com/github/HimanshuChhikara/DATA-1/blob/master/Untitled1.ipynb\" target=\"_parent\"><img src=\"https://colab.research.google.com/assets/colab-badge.svg\" alt=\"Open In Colab\"/></a>"
      ]
    },
    {
      "cell_type": "code",
      "metadata": {
        "id": "j8pIYTeUrxLF"
      },
      "source": [
        "function mergeSorted(num1,num2){\n",
        "    var i,j = 0;\n",
        "    var len1 = num1.length;\n",
        "    var len2 = num2.length;\n",
        "    var final = [];\n",
        "\n",
        "    while(i<len1 && j<len2){\n",
        "        if(num1[i]<num2[j]){\n",
        "            final.push(num1[i]);\n",
        "            i++;\n",
        "        }\n",
        "        else{\n",
        "            final.push(num2[j]);\n",
        "            j++;\n",
        "        }\n",
        "    }\n",
        "    while(i<len1){\n",
        "        final.push(num1[i]);\n",
        "    }\n",
        "    while(j<len2){\n",
        "        final.push(num2[j]);\n",
        "    }\n",
        "return final;\n",
        "}\n",
        "console.log(mergeSorted([1,8,7],[6,9,11]))\n"
      ],
      "execution_count": null,
      "outputs": []
    },
    {
      "cell_type": "markdown",
      "metadata": {
        "id": "h5ujiPNCr01m"
      },
      "source": [
        "Merge Sorted array question \n",
        "\n",
        "1. point i and j in beggning of both array\n",
        "2. make an empty array\n",
        "3. check if i is smaller than the length of array1 and j is smalled than array2\n",
        "4. if 3 point is good than check if number in first array at i poistion is smaller than j position in array2\n",
        "5. if 4 is satisfied that is if(arr1[i]<arr2[j]) push smaller number that is arr1[i] into the empty array.and increment the i;\n",
        "6.else i.e j is smaller than push value of j in empty array and increment j.\n",
        "7. push rest of array in empty array"
      ]
    }
  ]
}