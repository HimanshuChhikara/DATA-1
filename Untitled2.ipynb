{
  "nbformat": 4,
  "nbformat_minor": 0,
  "metadata": {
    "colab": {
      "name": "Untitled2.ipynb",
      "provenance": [],
      "authorship_tag": "ABX9TyOORnQhShbpqXXrLiZzIoUp",
      "include_colab_link": true
    },
    "kernelspec": {
      "name": "python3",
      "display_name": "Python 3"
    }
  },
  "cells": [
    {
      "cell_type": "markdown",
      "metadata": {
        "id": "view-in-github",
        "colab_type": "text"
      },
      "source": [
        "<a href=\"https://colab.research.google.com/github/HimanshuChhikara/DATA-1/blob/master/Untitled2.ipynb\" target=\"_parent\"><img src=\"https://colab.research.google.com/assets/colab-badge.svg\" alt=\"Open In Colab\"/></a>"
      ]
    },
    {
      "cell_type": "code",
      "metadata": {
        "colab": {
          "base_uri": "https://localhost:8080/",
          "height": 129
        },
        "id": "oJYh74bWCdI4",
        "outputId": "dd2c87cc-ec8b-481b-acc9-25a2d79845ac"
      },
      "source": [
        "const name = \"Himanshu\"\n",
        "const age = 21\n",
        "const city = \"Delhi,India\"\n",
        "\n",
        "\n",
        "function getPersonInfo() {\n",
        "  const name = \"Himanshu\"\n",
        "  const age = 22\n",
        "\n",
        "  return `${name} is ${age} and lives in ${city}`\n",
        "}\n",
        "\n",
        "console.log(getPersonInfo())"
      ],
      "execution_count": 1,
      "outputs": [
        {
          "output_type": "error",
          "ename": "SyntaxError",
          "evalue": "ignored",
          "traceback": [
            "\u001b[0;36m  File \u001b[0;32m\"<ipython-input-1-7ced1be48c0a>\"\u001b[0;36m, line \u001b[0;32m1\u001b[0m\n\u001b[0;31m    const name = \"Himanshu\"\u001b[0m\n\u001b[0m             ^\u001b[0m\n\u001b[0;31mSyntaxError\u001b[0m\u001b[0;31m:\u001b[0m invalid syntax\n"
          ]
        }
      ]
    },
    {
      "cell_type": "markdown",
      "metadata": {
        "id": "dUdyFGp1Cn1P"
      },
      "source": [
        "**Scope in javascript**:\n",
        "\n",
        "There are 3 type of scope\n",
        "1. Global scope\n",
        "2. Function Scope\n",
        "3. local scope\n",
        "\n",
        "we can access Global Scope anywhere in the code\n",
        "but local scope is accessable only in the scope environment\n",
        "\n",
        "For example in code name and age city are global scope that can be accessed any where in the code.\n",
        "\n",
        "if i define another variable inside getPersonInfo than it is local scope and it is not accesable to outside world of code\n",
        "\n",
        "\n",
        "\n"
      ]
    }
  ]
}